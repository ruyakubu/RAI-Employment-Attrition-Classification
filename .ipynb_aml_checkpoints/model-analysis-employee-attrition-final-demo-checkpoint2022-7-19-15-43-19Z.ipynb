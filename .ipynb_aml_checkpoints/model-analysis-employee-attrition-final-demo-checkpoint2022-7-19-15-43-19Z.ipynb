{
 "cells": [
  {
   "cell_type": "code",
   "execution_count": 1,
   "metadata": {},
   "outputs": [
    {
     "name": "stdout",
     "output_type": "stream",
     "text": [
      "Collecting raiwidgets"
     ]
    },
    {
     "name": "stderr",
     "output_type": "stream",
     "text": [
      "ERROR: pip's dependency resolver does not currently take into account all the packages that are installed. This behaviour is the source of the following dependency conflicts.\n"
     ]
    },
    {
     "name": "stdout",
     "output_type": "stream",
     "text": [
      "\n",
      "  Downloading raiwidgets-0.20.0-py3-none-any.whl (2.2 MB)\n",
      "Requirement already satisfied: numpy>=1.17.2 in c:\\users\\ruyakubu\\anaconda3\\lib\\site-packages (from raiwidgets) (1.22.3)\n",
      "Collecting fairlearn>=0.7.0\n",
      "  Downloading fairlearn-0.7.0-py3-none-any.whl (177 kB)\n",
      "Collecting rai-core-flask==0.4.0\n",
      "  Downloading rai_core_flask-0.4.0-py3-none-any.whl (11 kB)\n",
      "Requirement already satisfied: lightgbm>=2.0.11 in c:\\users\\ruyakubu\\anaconda3\\lib\\site-packages (from raiwidgets) (3.2.1)\n",
      "Collecting raiutils>=0.2.0\n",
      "  Downloading raiutils-0.2.0-py3-none-any.whl (9.6 kB)\n",
      "Requirement already satisfied: scipy>=1.4.1 in c:\\users\\ruyakubu\\anaconda3\\lib\\site-packages (from raiwidgets) (1.5.2)\n",
      "Collecting responsibleai==0.20.0\n",
      "  Downloading responsibleai-0.20.0-py3-none-any.whl (124 kB)\n",
      "Collecting itsdangerous==2.0.1\n",
      "  Downloading itsdangerous-2.0.1-py3-none-any.whl (18 kB)\n",
      "Requirement already satisfied: scikit-learn>=0.22.1 in c:\\users\\ruyakubu\\anaconda3\\lib\\site-packages (from raiwidgets) (1.1.2)\n",
      "Requirement already satisfied: pandas>=0.25.1 in c:\\users\\ruyakubu\\anaconda3\\lib\\site-packages (from raiwidgets) (1.4.3)\n",
      "Collecting erroranalysis>=0.3.4\n",
      "  Downloading erroranalysis-0.3.8-py3-none-any.whl (34 kB)\n",
      "Requirement already satisfied: Werkzeug<2.1.0 in c:\\users\\ruyakubu\\anaconda3\\lib\\site-packages (from rai-core-flask==0.4.0->raiwidgets) (1.0.1)\n",
      "Collecting greenlet==1.1.2\n",
      "  Using cached greenlet-1.1.2-cp38-cp38-win_amd64.whl (101 kB)\n",
      "Requirement already satisfied: markupsafe<2.1.0 in c:\\users\\ruyakubu\\anaconda3\\lib\\site-packages (from rai-core-flask==0.4.0->raiwidgets) (1.1.1)\n",
      "Collecting Flask-Cors\n",
      "  Downloading Flask_Cors-3.0.10-py2.py3-none-any.whl (14 kB)\n",
      "Collecting gevent==21.12.0\n",
      "  Downloading gevent-21.12.0-cp38-cp38-win_amd64.whl (1.6 MB)\n",
      "Collecting ipython==7.31.1\n",
      "  Downloading ipython-7.31.1-py3-none-any.whl (792 kB)\n",
      "Requirement already satisfied: Flask in c:\\users\\ruyakubu\\anaconda3\\lib\\site-packages (from rai-core-flask==0.4.0->raiwidgets) (1.0.3)\n",
      "Requirement already satisfied: zope.event in c:\\users\\ruyakubu\\anaconda3\\lib\\site-packages (from gevent==21.12.0->rai-core-flask==0.4.0->raiwidgets) (4.5.0)\n",
      "Requirement already satisfied: cffi>=1.12.2 in c:\\users\\ruyakubu\\anaconda3\\lib\\site-packages (from gevent==21.12.0->rai-core-flask==0.4.0->raiwidgets) (1.14.5)\n",
      "Requirement already satisfied: zope.interface in c:\\users\\ruyakubu\\anaconda3\\lib\\site-packages (from gevent==21.12.0->rai-core-flask==0.4.0->raiwidgets) (5.3.0)\n",
      "Requirement already satisfied: setuptools in c:\\users\\ruyakubu\\anaconda3\\lib\\site-packages (from gevent==21.12.0->rai-core-flask==0.4.0->raiwidgets) (49.6.0)\n",
      "Requirement already satisfied: jedi>=0.16 in c:\\users\\ruyakubu\\anaconda3\\lib\\site-packages (from ipython==7.31.1->rai-core-flask==0.4.0->raiwidgets) (0.17.2)\n",
      "Requirement already satisfied: decorator in c:\\users\\ruyakubu\\anaconda3\\lib\\site-packages (from ipython==7.31.1->rai-core-flask==0.4.0->raiwidgets) (5.0.6)\n",
      "Requirement already satisfied: pickleshare in c:\\users\\ruyakubu\\anaconda3\\lib\\site-packages (from ipython==7.31.1->rai-core-flask==0.4.0->raiwidgets) (0.7.5)\n",
      "Requirement already satisfied: colorama in c:\\users\\ruyakubu\\anaconda3\\lib\\site-packages (from ipython==7.31.1->rai-core-flask==0.4.0->raiwidgets) (0.4.4)\n",
      "Requirement already satisfied: traitlets>=4.2 in c:\\users\\ruyakubu\\anaconda3\\lib\\site-packages (from ipython==7.31.1->rai-core-flask==0.4.0->raiwidgets) (5.0.5)\n",
      "Requirement already satisfied: backcall in c:\\users\\ruyakubu\\anaconda3\\lib\\site-packages (from ipython==7.31.1->rai-core-flask==0.4.0->raiwidgets) (0.2.0)\n",
      "Requirement already satisfied: prompt-toolkit!=3.0.0,!=3.0.1,<3.1.0,>=2.0.0 in c:\\users\\ruyakubu\\anaconda3\\lib\\site-packages (from ipython==7.31.1->rai-core-flask==0.4.0->raiwidgets) (3.0.17)\n",
      "Collecting matplotlib-inline\n",
      "  Downloading matplotlib_inline-0.1.6-py3-none-any.whl (9.4 kB)\n",
      "Requirement already satisfied: pygments in c:\\users\\ruyakubu\\anaconda3\\lib\\site-packages (from ipython==7.31.1->rai-core-flask==0.4.0->raiwidgets) (2.8.1)\n",
      "Requirement already satisfied: numba<0.54.0 in c:\\users\\ruyakubu\\anaconda3\\lib\\site-packages (from responsibleai==0.20.0->raiwidgets) (0.53.1)\n",
      "Collecting interpret-community>=0.26.0\n",
      "  Downloading interpret_community-0.26.0-py3-none-any.whl (130 kB)\n",
      "Requirement already satisfied: jsonschema in c:\\users\\ruyakubu\\anaconda3\\lib\\site-packages (from responsibleai==0.20.0->raiwidgets) (4.6.0)\n",
      "Collecting scikit-learn>=0.22.1\n",
      "  Downloading scikit_learn-1.0.2-cp38-cp38-win_amd64.whl (7.2 MB)\n",
      "Collecting dice-ml<0.9,>=0.8\n",
      "  Downloading dice_ml-0.8-py3-none-any.whl (213 kB)\n",
      "Requirement already satisfied: networkx<=2.5 in c:\\users\\ruyakubu\\anaconda3\\lib\\site-packages (from responsibleai==0.20.0->raiwidgets) (2.5)\n",
      "Requirement already satisfied: ipykernel<=6.6.0 in c:\\users\\ruyakubu\\anaconda3\\lib\\site-packages (from responsibleai==0.20.0->raiwidgets) (5.3.4)\n",
      "Collecting semver~=2.13.0\n",
      "  Downloading semver-2.13.0-py2.py3-none-any.whl (12 kB)\n",
      "Collecting econml>=0.13.0\n",
      "  Downloading econml-0.13.1-cp38-cp38-win_amd64.whl (928 kB)\n",
      "Requirement already satisfied: pycparser in c:\\users\\ruyakubu\\anaconda3\\lib\\site-packages (from cffi>=1.12.2->gevent==21.12.0->rai-core-flask==0.4.0->raiwidgets) (2.20)\n",
      "Requirement already satisfied: h5py in c:\\users\\ruyakubu\\anaconda3\\lib\\site-packages (from dice-ml<0.9,>=0.8->responsibleai==0.20.0->raiwidgets) (2.10.0)\n",
      "Requirement already satisfied: tqdm in c:\\users\\ruyakubu\\anaconda3\\lib\\site-packages (from dice-ml<0.9,>=0.8->responsibleai==0.20.0->raiwidgets) (4.59.0)\n",
      "Requirement already satisfied: joblib>=0.13.0 in c:\\users\\ruyakubu\\anaconda3\\lib\\site-packages (from econml>=0.13.0->responsibleai==0.20.0->raiwidgets) (1.1.0)\n",
      "Collecting sparse\n",
      "  Downloading sparse-0.13.0-py2.py3-none-any.whl (77 kB)\n",
      "Requirement already satisfied: shap<0.41.0,>=0.38.1 in c:\\users\\ruyakubu\\anaconda3\\lib\\site-packages (from econml>=0.13.0->responsibleai==0.20.0->raiwidgets) (0.39.0)\n",
      "Collecting dowhy<0.8\n",
      "  Downloading dowhy-0.7.1-py3-none-any.whl (164 kB)\n",
      "Requirement already satisfied: statsmodels>=0.10 in c:\\users\\ruyakubu\\anaconda3\\lib\\site-packages (from econml>=0.13.0->responsibleai==0.20.0->raiwidgets) (0.11.1)\n",
      "Requirement already satisfied: sympy>=1.4 in c:\\users\\ruyakubu\\anaconda3\\lib\\site-packages (from dowhy<0.8->econml>=0.13.0->responsibleai==0.20.0->raiwidgets) (1.8)\n",
      "Collecting pydot>=1.4\n",
      "  Downloading pydot-1.4.2-py2.py3-none-any.whl (21 kB)\n",
      "Collecting ml-wrappers==0.2.0\n",
      "  Downloading ml_wrappers-0.2.0-py3-none-any.whl (29 kB)\n",
      "Requirement already satisfied: interpret-core[required]<=0.2.7,>=0.1.20 in c:\\users\\ruyakubu\\anaconda3\\lib\\site-packages (from interpret-community>=0.26.0->responsibleai==0.20.0->raiwidgets) (0.2.1)\n",
      "Requirement already satisfied: packaging in c:\\users\\ruyakubu\\anaconda3\\lib\\site-packages (from interpret-community>=0.26.0->responsibleai==0.20.0->raiwidgets) (20.9)\n",
      "Requirement already satisfied: tornado>=4.2 in c:\\users\\ruyakubu\\anaconda3\\lib\\site-packages (from ipykernel<=6.6.0->responsibleai==0.20.0->raiwidgets) (6.1)\n",
      "Requirement already satisfied: jupyter-client in c:\\users\\ruyakubu\\anaconda3\\lib\\site-packages (from ipykernel<=6.6.0->responsibleai==0.20.0->raiwidgets) (6.1.12)\n",
      "Requirement already satisfied: parso<0.8.0,>=0.7.0 in c:\\users\\ruyakubu\\anaconda3\\lib\\site-packages (from jedi>=0.16->ipython==7.31.1->rai-core-flask==0.4.0->raiwidgets) (0.7.0)\n",
      "Requirement already satisfied: wheel in c:\\users\\ruyakubu\\anaconda3\\lib\\site-packages (from lightgbm>=2.0.11->raiwidgets) (0.36.2)\n",
      "Requirement already satisfied: llvmlite<0.37,>=0.36.0rc1 in c:\\users\\ruyakubu\\anaconda3\\lib\\site-packages (from numba<0.54.0->responsibleai==0.20.0->raiwidgets) (0.36.0)\n",
      "Requirement already satisfied: pytz>=2020.1 in c:\\users\\ruyakubu\\anaconda3\\lib\\site-packages (from pandas>=0.25.1->raiwidgets) (2021.1)\n",
      "Requirement already satisfied: python-dateutil>=2.8.1 in c:\\users\\ruyakubu\\anaconda3\\lib\\site-packages (from pandas>=0.25.1->raiwidgets) (2.8.1)\n",
      "Requirement already satisfied: wcwidth in c:\\users\\ruyakubu\\anaconda3\\lib\\site-packages (from prompt-toolkit!=3.0.0,!=3.0.1,<3.1.0,>=2.0.0->ipython==7.31.1->rai-core-flask==0.4.0->raiwidgets) (0.2.5)\n",
      "Requirement already satisfied: pyparsing>=2.1.4 in c:\\users\\ruyakubu\\anaconda3\\lib\\site-packages (from pydot>=1.4->dowhy<0.8->econml>=0.13.0->responsibleai==0.20.0->raiwidgets) (2.4.7)\n",
      "Requirement already satisfied: six>=1.5 in c:\\users\\ruyakubu\\anaconda3\\lib\\site-packages (from python-dateutil>=2.8.1->pandas>=0.25.1->raiwidgets) (1.15.0)\n",
      "Requirement already satisfied: requests in c:\\users\\ruyakubu\\anaconda3\\lib\\site-packages (from raiutils>=0.2.0->raiwidgets) (2.25.1)\n",
      "Requirement already satisfied: threadpoolctl>=2.0.0 in c:\\users\\ruyakubu\\anaconda3\\lib\\site-packages (from scikit-learn>=0.22.1->raiwidgets) (2.1.0)\n",
      "Requirement already satisfied: slicer==0.0.7 in c:\\users\\ruyakubu\\anaconda3\\lib\\site-packages (from shap<0.41.0,>=0.38.1->econml>=0.13.0->responsibleai==0.20.0->raiwidgets) (0.0.7)\n",
      "Requirement already satisfied: cloudpickle in c:\\users\\ruyakubu\\anaconda3\\lib\\site-packages (from shap<0.41.0,>=0.38.1->econml>=0.13.0->responsibleai==0.20.0->raiwidgets) (1.6.0)\n",
      "Requirement already satisfied: patsy>=0.5 in c:\\users\\ruyakubu\\anaconda3\\lib\\site-packages (from statsmodels>=0.10->econml>=0.13.0->responsibleai==0.20.0->raiwidgets) (0.5.1)\n",
      "Requirement already satisfied: mpmath>=0.19 in c:\\users\\ruyakubu\\anaconda3\\lib\\site-packages (from sympy>=1.4->dowhy<0.8->econml>=0.13.0->responsibleai==0.20.0->raiwidgets) (1.2.1)\n",
      "Requirement already satisfied: ipython-genutils in c:\\users\\ruyakubu\\anaconda3\\lib\\site-packages (from traitlets>=4.2->ipython==7.31.1->rai-core-flask==0.4.0->raiwidgets) (0.2.0)\n",
      "Requirement already satisfied: click>=5.1 in c:\\users\\ruyakubu\\anaconda3\\lib\\site-packages (from Flask->rai-core-flask==0.4.0->raiwidgets) (7.1.2)\n",
      "Requirement already satisfied: Jinja2>=2.10 in c:\\users\\ruyakubu\\anaconda3\\lib\\site-packages (from Flask->rai-core-flask==0.4.0->raiwidgets) (2.11.2)\n",
      "Requirement already satisfied: importlib-resources>=1.4.0 in c:\\users\\ruyakubu\\anaconda3\\lib\\site-packages (from jsonschema->responsibleai==0.20.0->raiwidgets) (5.7.1)\n",
      "Requirement already satisfied: attrs>=17.4.0 in c:\\users\\ruyakubu\\anaconda3\\lib\\site-packages (from jsonschema->responsibleai==0.20.0->raiwidgets) (20.3.0)\n",
      "Requirement already satisfied: pyrsistent!=0.17.0,!=0.17.1,!=0.17.2,>=0.14.0 in c:\\users\\ruyakubu\\anaconda3\\lib\\site-packages (from jsonschema->responsibleai==0.20.0->raiwidgets) (0.17.3)\n",
      "Requirement already satisfied: zipp>=3.1.0 in c:\\users\\ruyakubu\\anaconda3\\lib\\site-packages (from importlib-resources>=1.4.0->jsonschema->responsibleai==0.20.0->raiwidgets) (3.4.1)\n",
      "Requirement already satisfied: pyzmq>=13 in c:\\users\\ruyakubu\\anaconda3\\lib\\site-packages (from jupyter-client->ipykernel<=6.6.0->responsibleai==0.20.0->raiwidgets) (20.0.0)\n",
      "Requirement already satisfied: jupyter-core>=4.6.0 in c:\\users\\ruyakubu\\anaconda3\\lib\\site-packages (from jupyter-client->ipykernel<=6.6.0->responsibleai==0.20.0->raiwidgets) (4.7.1)\n",
      "Requirement already satisfied: pywin32>=1.0 in c:\\users\\ruyakubu\\anaconda3\\lib\\site-packages (from jupyter-core>=4.6.0->jupyter-client->ipykernel<=6.6.0->responsibleai==0.20.0->raiwidgets) (227)\n",
      "Requirement already satisfied: chardet<5,>=3.0.2 in c:\\users\\ruyakubu\\anaconda3\\lib\\site-packages (from requests->raiutils>=0.2.0->raiwidgets) (4.0.0)\n",
      "Requirement already satisfied: idna<3,>=2.5 in c:\\users\\ruyakubu\\anaconda3\\lib\\site-packages (from requests->raiutils>=0.2.0->raiwidgets) (2.10)\n",
      "Requirement already satisfied: urllib3<1.27,>=1.21.1 in c:\\users\\ruyakubu\\anaconda3\\lib\\site-packages (from requests->raiutils>=0.2.0->raiwidgets) (1.26.9)\n",
      "Requirement already satisfied: certifi>=2017.4.17 in c:\\users\\ruyakubu\\anaconda3\\lib\\site-packages (from requests->raiutils>=0.2.0->raiwidgets) (2020.12.5)\n",
      "Installing collected packages: scikit-learn, pydot, matplotlib-inline, itsdangerous, sparse, raiutils, ml-wrappers, ipython, greenlet, dowhy, semver, interpret-community, gevent, Flask-Cors, erroranalysis, econml, dice-ml, responsibleai, rai-core-flask, fairlearn, raiwidgets\n",
      "  Attempting uninstall: scikit-learn\n",
      "    Found existing installation: scikit-learn 1.1.2\n",
      "    Uninstalling scikit-learn-1.1.2:\n",
      "      Successfully uninstalled scikit-learn-1.1.2\n",
      "  Attempting uninstall: itsdangerous\n",
      "    Found existing installation: itsdangerous 1.1.0\n",
      "    Uninstalling itsdangerous-1.1.0:\n",
      "      Successfully uninstalled itsdangerous-1.1.0\n",
      "  Attempting uninstall: ml-wrappers\n",
      "    Found existing installation: ml-wrappers 0.0.6\n",
      "    Uninstalling ml-wrappers-0.0.6:\n",
      "      Successfully uninstalled ml-wrappers-0.0.6\n",
      "  Attempting uninstall: ipython\n",
      "    Found existing installation: ipython 7.22.0\n",
      "    Uninstalling ipython-7.22.0:\n",
      "      Successfully uninstalled ipython-7.22.0\n",
      "  Attempting uninstall: greenlet\n",
      "    Found existing installation: greenlet 1.0.0\n",
      "    Uninstalling greenlet-1.0.0:\n",
      "      Successfully uninstalled greenlet-1.0.0\n",
      "  Attempting uninstall: interpret-community\n",
      "    Found existing installation: interpret-community 0.24.2\n",
      "    Uninstalling interpret-community-0.24.2:\n",
      "      Successfully uninstalled interpret-community-0.24.2\n",
      "  Attempting uninstall: gevent\n",
      "    Found existing installation: gevent 21.1.2\n",
      "    Uninstalling gevent-21.1.2:\n",
      "      Successfully uninstalled gevent-21.1.2\n",
      "Successfully installed Flask-Cors-3.0.10 dice-ml-0.8 dowhy-0.7.1 econml-0.13.1 erroranalysis-0.3.8 fairlearn-0.7.0 gevent-21.12.0 greenlet-1.1.2 interpret-community-0.26.0 ipython-7.31.1 itsdangerous-2.0.1 matplotlib-inline-0.1.6 ml-wrappers-0.2.0 pydot-1.4.2 rai-core-flask-0.4.0 raiutils-0.2.0 raiwidgets-0.20.0 responsibleai-0.20.0 scikit-learn-1.0.2 semver-2.13.0 sparse-0.13.0\n"
     ]
    },
    {
     "name": "stderr",
     "output_type": "stream",
     "text": [
      "spyder 4.2.5 requires pyqt5<5.13, but you have pyqt5 5.15.6 which is incompatible.\n",
      "spyder 4.2.5 requires pyqtwebengine<5.13, but you have pyqtwebengine 5.15.5 which is incompatible.\n",
      "azureml-training-tabular 1.38.1 requires joblib==0.14.1, but you have joblib 1.1.0 which is incompatible.\n",
      "azureml-training-tabular 1.38.1 requires numpy<1.19.0,>=1.16.0, but you have numpy 1.22.3 which is incompatible.\n",
      "azureml-training-tabular 1.38.1 requires onnxruntime<1.9.0,>=1.3.0, but you have onnxruntime 1.11.1 which is incompatible.\n",
      "azureml-training-tabular 1.38.1 requires pandas<=1.3.4,>=1.1.5, but you have pandas 1.4.3 which is incompatible.\n",
      "azureml-training-tabular 1.38.1 requires scikit-learn<0.23.0,>=0.19.0, but you have scikit-learn 1.0.2 which is incompatible.\n",
      "azureml-train-automl-runtime 1.38.1.post1 requires numpy<1.19.0,>=1.16.0, but you have numpy 1.22.3 which is incompatible.\n",
      "azureml-train-automl-runtime 1.38.1.post1 requires onnxruntime<1.9.0,>=1.3.0, but you have onnxruntime 1.11.1 which is incompatible.\n",
      "azureml-train-automl-runtime 1.38.1.post1 requires pandas<=1.3.4,>=1.1.5, but you have pandas 1.4.3 which is incompatible.\n",
      "azureml-train-automl-runtime 1.38.1.post1 requires scikit-learn<0.23.0,>=0.19.0, but you have scikit-learn 1.0.2 which is incompatible.\n",
      "azureml-interpret 1.38.0 requires interpret-community==0.24.*, but you have interpret-community 0.26.0 which is incompatible.\n",
      "azureml-interpret 1.38.0 requires numpy<=1.20.*, but you have numpy 1.22.3 which is incompatible.\n",
      "azureml-inference-server-http 0.4.10 requires itsdangerous<2.0,>=0.24, but you have itsdangerous 2.0.1 which is incompatible.\n",
      "azureml-automl-runtime 1.38.1 requires joblib==0.14.1, but you have joblib 1.1.0 which is incompatible.\n",
      "azureml-automl-runtime 1.38.1 requires numpy<1.19.0,>=1.16.0, but you have numpy 1.22.3 which is incompatible.\n",
      "azureml-automl-runtime 1.38.1 requires onnxruntime<1.9.0,>=1.3.0, but you have onnxruntime 1.11.1 which is incompatible.\n",
      "azureml-automl-runtime 1.38.1 requires pandas<=1.3.4,>=1.1.5, but you have pandas 1.4.3 which is incompatible.\n",
      "azureml-automl-runtime 1.38.1 requires scikit-learn<0.23.0,>=0.19.0, but you have scikit-learn 1.0.2 which is incompatible.\n"
     ]
    },
    {
     "name": "stdout",
     "output_type": "stream",
     "text": [
      "Requirement already satisfied: pandas in c:\\users\\ruyakubu\\anaconda3\\lib\\site-packages (1.4.3)\n",
      "Requirement already satisfied: pytz>=2020.1 in c:\\users\\ruyakubu\\anaconda3\\lib\\site-packages (from pandas) (2021.1)\n",
      "Requirement already satisfied: numpy>=1.18.5 in c:\\users\\ruyakubu\\anaconda3\\lib\\site-packages (from pandas) (1.22.3)\n",
      "Requirement already satisfied: python-dateutil>=2.8.1 in c:\\users\\ruyakubu\\anaconda3\\lib\\site-packages (from pandas) (2.8.1)\n",
      "Requirement already satisfied: six>=1.5 in c:\\users\\ruyakubu\\anaconda3\\lib\\site-packages (from python-dateutil>=2.8.1->pandas) (1.15.0)\n"
     ]
    }
   ],
   "source": [
    "!pip install --upgrade raiwidgets\n",
    "!pip install --upgrade pandas"
   ]
  },
  {
   "cell_type": "code",
   "execution_count": 2,
   "metadata": {},
   "outputs": [],
   "source": [
    "import warnings\n",
    "warnings.filterwarnings(\"ignore\")"
   ]
  },
  {
   "cell_type": "code",
   "execution_count": 3,
   "metadata": {
    "scrolled": true
   },
   "outputs": [],
   "source": [
    "import sklearn\n",
    "import zipfile\n",
    "from sklearn.model_selection import train_test_split\n",
    "from sklearn.linear_model import LogisticRegression\n",
    "from sklearn.ensemble import RandomForestRegressor\n",
    "import pandas as pd\n",
    "\n",
    "from raiwidgets import ResponsibleAIDashboard\n",
    "from responsibleai import RAIInsights\n",
    "from urllib.request import urlretrieve\n",
    "import zipfile"
   ]
  },
  {
   "cell_type": "markdown",
   "metadata": {},
   "source": [
    "### Use IBM Employee Attrition Dataset"
   ]
  },
  {
   "cell_type": "code",
   "execution_count": 4,
   "metadata": {
    "scrolled": true
   },
   "outputs": [
    {
     "name": "stdout",
     "output_type": "stream",
     "text": [
      "['BusinessTravel', 'Department', 'EducationField', 'Gender', 'JobRole', 'MaritalStatus', 'OverTime']\n"
     ]
    }
   ],
   "source": [
    "from sklearn.pipeline import Pipeline\n",
    "from sklearn.impute import SimpleImputer\n",
    "from sklearn.preprocessing import StandardScaler, OneHotEncoder\n",
    "from sklearn.compose import ColumnTransformer\n",
    "\n",
    "def split_label(dataset, target_feature):\n",
    "    X = dataset.drop([target_feature], axis=1)\n",
    "    y = dataset[[target_feature]]\n",
    "    return X, y\n",
    "\n",
    "def clean_data(X, y, target_feature):\n",
    "    features = X.columns.values.tolist()\n",
    "    classes = y[target_feature].unique().tolist()\n",
    "    pipe_cfg = {\n",
    "        'num_cols': X.dtypes[X.dtypes == 'int64'].index.values.tolist(),\n",
    "        'cat_cols': X.dtypes[X.dtypes == 'object'].index.values.tolist(),\n",
    "    }\n",
    "    num_pipe = Pipeline([\n",
    "        ('num_imputer', SimpleImputer(strategy='median')),\n",
    "        ('num_scaler', StandardScaler())\n",
    "    ])\n",
    "    cat_pipe = Pipeline([\n",
    "        ('cat_imputer', SimpleImputer(strategy='constant', fill_value='?')),\n",
    "        ('cat_encoder', OneHotEncoder(handle_unknown='ignore', sparse=False))\n",
    "    ])\n",
    "    feat_pipe = ColumnTransformer([\n",
    "        ('num_pipe', num_pipe, pipe_cfg['num_cols']),\n",
    "        ('cat_pipe', cat_pipe, pipe_cfg['cat_cols'])\n",
    "    ])\n",
    "    X = feat_pipe.fit_transform(X)\n",
    "    print(pipe_cfg['cat_cols'])\n",
    "    return X, feat_pipe, features, classes\n",
    "\n",
    "\n",
    "\n",
    "outdirname = 'dataset.6.21.19'\n",
    "zipfilename = outdirname + '.zip'\n",
    "urlretrieve('https://publictestdatasets.blob.core.windows.net/data/' + zipfilename, zipfilename)\n",
    "with zipfile.ZipFile(zipfilename, 'r') as unzip:\n",
    "    unzip.extractall('.')\n",
    "all_data = pd.read_csv('./WA_Fn-UseC_-HR-Employee-Attrition.csv')\n",
    "\n",
    "# Dropping Employee count as all values are 1 and hence attrition is independent of this feature\n",
    "all_data = all_data.drop(['EmployeeCount'], axis=1)\n",
    "# Dropping Employee Number since it is merely an identifier\n",
    "all_data = all_data.drop(['EmployeeNumber'], axis=1)\n",
    "all_data = all_data.drop(['Over18'], axis=1)\n",
    "\n",
    "# Since all values are 80\n",
    "all_data = all_data.drop(['StandardHours'], axis=1)\n",
    "\n",
    "# Converting target variables from string to numerical values\n",
    "target_map = {'Yes': 'Leaving', 'No': 'Staying'}\n",
    "all_data[\"Attrition_numerical\"] = all_data[\"Attrition\"].apply(lambda x: target_map[x])\n",
    "all_data = all_data.drop(['Attrition'], axis=1)\n",
    "\n",
    "\n",
    "target_feature = \"Attrition_numerical\"\n",
    "\n",
    "\n",
    "\n",
    "X, y = split_label(all_data, target_feature)\n",
    "X_train_original, X_test_original, y_train, y_test = train_test_split(X, y, test_size=0.5, random_state=7)\n",
    "\n",
    "X_train, feat_pipe, features, classes = clean_data(X_train_original, y_train, target_feature)\n",
    "y_train = y_train[target_feature].to_numpy()\n",
    "\n",
    "X_test = feat_pipe.transform(X_test_original)\n",
    "y_test = y_test[target_feature].to_numpy()\n",
    "\n",
    "train_data = X_train_original.copy()\n",
    "train_data[target_feature] = y_train\n",
    "\n",
    "test_data = X_test_original.copy()\n",
    "test_data[target_feature] = y_test"
   ]
  },
  {
   "cell_type": "code",
   "execution_count": 5,
   "metadata": {},
   "outputs": [],
   "source": [
    "from lightgbm import LGBMClassifier\n",
    "\n",
    "clf = LGBMClassifier()\n",
    "model = clf.fit(X_train, y_train)"
   ]
  },
  {
   "cell_type": "code",
   "execution_count": 6,
   "metadata": {},
   "outputs": [],
   "source": [
    "categorical = []\n",
    "for col, value in all_data.iteritems():\n",
    "    if value.dtype == 'object':\n",
    "        categorical.append(col)\n",
    "numerical = all_data.columns.difference(categorical)\n",
    "#categorical.drop('Attrition_numerical')\n",
    "categorical.remove('Attrition_numerical')"
   ]
  },
  {
   "cell_type": "code",
   "execution_count": 7,
   "metadata": {},
   "outputs": [
    {
     "data": {
      "text/plain": [
       "['BusinessTravel',\n",
       " 'Department',\n",
       " 'EducationField',\n",
       " 'Gender',\n",
       " 'JobRole',\n",
       " 'MaritalStatus',\n",
       " 'OverTime']"
      ]
     },
     "execution_count": 7,
     "metadata": {},
     "output_type": "execute_result"
    }
   ],
   "source": [
    "categorical"
   ]
  },
  {
   "cell_type": "code",
   "execution_count": 8,
   "metadata": {},
   "outputs": [
    {
     "data": {
      "text/plain": [
       "Index(['Age', 'DailyRate', 'DistanceFromHome', 'Education',\n",
       "       'EnvironmentSatisfaction', 'HourlyRate', 'JobInvolvement', 'JobLevel',\n",
       "       'JobSatisfaction', 'MonthlyIncome', 'MonthlyRate', 'NumCompaniesWorked',\n",
       "       'PercentSalaryHike', 'PerformanceRating', 'RelationshipSatisfaction',\n",
       "       'StockOptionLevel', 'TotalWorkingYears', 'TrainingTimesLastYear',\n",
       "       'WorkLifeBalance', 'YearsAtCompany', 'YearsInCurrentRole',\n",
       "       'YearsSinceLastPromotion', 'YearsWithCurrManager'],\n",
       "      dtype='object')"
      ]
     },
     "execution_count": 8,
     "metadata": {},
     "output_type": "execute_result"
    }
   ],
   "source": [
    "numerical"
   ]
  },
  {
   "cell_type": "markdown",
   "metadata": {},
   "source": [
    "### Compute Responsible AI model and dataset insights"
   ]
  },
  {
   "cell_type": "code",
   "execution_count": null,
   "metadata": {},
   "outputs": [
    {
     "name": "stderr",
     "output_type": "stream",
     "text": [
      " 59%|██████████████████████████████████████████████▊                                 | 430/735 [10:26<05:31,  1.09s/it]"
     ]
    },
    {
     "name": "stdout",
     "output_type": "stream",
     "text": [
      "Only 2 (required 10)  Diverse Counterfactuals found for the given configuration, perhaps try with different parameters... ; total time taken: 00 min 01 sec\n"
     ]
    },
    {
     "name": "stderr",
     "output_type": "stream",
     "text": [
      " 83%|██████████████████████████████████████████████████████████████████▌             | 612/735 [14:51<03:19,  1.63s/it]"
     ]
    }
   ],
   "source": [
    "dashboard_pipeline = Pipeline(steps=[('preprocess', feat_pipe), ('model', model)])\n",
    "\n",
    "\n",
    "\n",
    "model_analysis2 = RAIInsights(dashboard_pipeline, train_data, test_data, target_feature, 'classification',\n",
    "                              categorical_features=categorical, \n",
    "                              classes=['Staying', 'Leaving'])\n",
    "\n",
    "# Queue Responsible AI insights\n",
    "model_analysis2.explainer.add()\n",
    "model_analysis2.counterfactual.add(10, desired_class='opposite')\n",
    "model_analysis2.error_analysis.add()\n",
    "model_analysis2.causal.add(treatment_features=['BusinessTravel', 'StockOptionLevel', 'WorkLifeBalance'])\n",
    "\n",
    "# Compute insights\n",
    "model_analysis2.compute()"
   ]
  },
  {
   "cell_type": "code",
   "execution_count": null,
   "metadata": {},
   "outputs": [],
   "source": [
    "ResponsibleAIDashboard(model_analysis2,\n",
    "                       feature_flights=\"newModelOverviewExperience\")"
   ]
  },
  {
   "cell_type": "code",
   "execution_count": null,
   "metadata": {},
   "outputs": [],
   "source": []
  }
 ],
 "metadata": {
  "kernel_info": {
   "name": "python3"
  },
  "kernelspec": {
   "display_name": "Python 3",
   "language": "python",
   "name": "python3"
  },
  "language_info": {
   "codemirror_mode": {
    "name": "ipython",
    "version": 3
   },
   "file_extension": ".py",
   "mimetype": "text/x-python",
   "name": "python",
   "nbconvert_exporter": "python",
   "pygments_lexer": "ipython3",
   "version": "3.8.8"
  },
  "nteract": {
   "version": "nteract-front-end@1.0.0"
  }
 },
 "nbformat": 4,
 "nbformat_minor": 1
}
